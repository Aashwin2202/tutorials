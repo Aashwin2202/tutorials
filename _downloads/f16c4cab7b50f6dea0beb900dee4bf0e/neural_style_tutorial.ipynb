{
  "cells": [
    {
      "cell_type": "code",
      "execution_count": null,
      "metadata": {
        "collapsed": false
      },
      "outputs": [],
      "source": [
        "%matplotlib inline"
      ]
    },
    {
      "cell_type": "markdown",
      "metadata": {},
      "source": [
        "\nNeural Transfer Using PyTorch\n=============================\n\n\n**Author**: `Alexis Jacq <https://alexis-jacq.github.io>`_\n \n**Edited by**: `Winston Herring <https://github.com/winston6>`_\n\nIntroduction\n------------\n\nThis tutorial explains how to implement the `Neural-Style algorithm <https://arxiv.org/abs/1508.06576>`__\ndeveloped by Leon A. Gatys, Alexander S. Ecker and Matthias Bethge.\nNeural-Style, or Neural-Transfer, allows you to take an image and\nreproduce it with a new artistic style. The algorithm takes three images,\nan input image, a content-image, and a style-image, and changes the input \nto resemble the content of the content-image and the artistic style of the style-image.\n\n \n.. figure:: /_static/img/neural-style/neuralstyle.png\n   :alt: content1\n\n"
      ]
    },
    {
      "cell_type": "markdown",
      "metadata": {},
      "source": [
        "Underlying Principle\n--------------------\n\nThe principle is simple: we define two distances, one for the content\n($D_C$) and one for the style ($D_S$).\u00a0$D_C$\u00a0measures how different the content\nis between two images while\u00a0$D_S$\u00a0measures how different the style is\nbetween two images. Then, we take a third image, the input, and\ntransform it to minimize both its content-distance with the\ncontent-image and its style-distance with the style-image. Now we can\nimport the necessary packages and begin the neural transfer.\n\nImporting Packages and Selecting a Device\n-----------------------------------------\nBelow is a  list of the packages needed to implement the neural transfer.\n\n-  ``torch``, ``torch.nn``, ``numpy`` (indispensables packages for\n   neural networks with PyTorch)\n-  ``torch.optim`` (efficient gradient descents)\n-  ``PIL``, ``PIL.Image``, ``matplotlib.pyplot`` (load and display\n   images)\n-  ``torchvision.transforms`` (transform PIL images into tensors)\n-  ``torchvision.models`` (train or load pre-trained models)\n-  ``copy`` (to deep copy the models; system package)\n\n"
      ]
    },
    {
      "cell_type": "markdown",
      "metadata": {},
      "source": [
        "Next, we need to choose which device to run the network on and import the\ncontent and style images. Running the neural transfer algorithm on large\nimages takes longer and will go much faster when running on a GPU. We can\nuse ``torch.cuda.is_available()`` to detect if there is a GPU available.\nNext, we set the ``torch.device`` for use throughout the tutorial. Also the ``.to(device)``\nmethod is used to move tensors or modules to a desired device. \n\n"
      ]
    },
    {
      "cell_type": "markdown",
      "metadata": {},
      "source": [
        "Loading the Images\n------------------\n\nNow we will import the style and content images. The original PIL images have values between 0 and 255, but when\ntransformed into torch tensors, their values are converted to be between\n0 and 1. The images also need to be resized to have the same dimensions.\nAn important detail to note is that neural networks from the\ntorch library are trained with tensor values ranging from 0 to 1. If you\ntry to feed the networks with 0 to 255 tensor images, then the activated\nfeature maps will be unable to sense the intended content and style.\nHowever, pre-trained networks from the Caffe library are trained with 0\nto 255 tensor images. \n\n\n.. Note::\n    Here are links to download the images required to run the tutorial:\n    `picasso.jpg <https://pytorch.org/tutorials/_static/img/neural-style/picasso.jpg>`__ and\n    `dancing.jpg <https://pytorch.org/tutorials/_static/img/neural-style/dancing.jpg>`__.\n    Download these two images and add them to a directory\n    with name ``images`` in your current working directory.\n\n"
      ]
    },
    {
      "cell_type": "code",
      "execution_count": null,
      "metadata": {
        "collapsed": false
      },
      "outputs": [],
      "source": [
        "# desired size of the output image"
      ]
    },
    {
      "cell_type": "markdown",
      "metadata": {},
      "source": [
        "Now, let's create a function that displays an image by reconverting a \ncopy of it to PIL format and displaying the copy using \n``plt.imshow``. We will try displaying the content and style images \nto ensure they were imported correctly.\n\n"
      ]
    },
    {
      "cell_type": "markdown",
      "metadata": {},
      "source": [
        "Loss Functions\n--------------\nContent Loss\n~~~~~~~~~~~~\n\nThe content loss is a function that represents a weighted version of the\ncontent distance for an individual layer. The function takes the feature\nmaps $F_{XL}$ of a layer $L$ in a network processing input $X$ and returns the\nweighted content distance $w_{CL}.D_C^L(X,C)$ between the image $X$ and the\ncontent image $C$. The feature maps of the content image($F_{CL}$) must be\nknown by the function in order to calculate the content distance. We\nimplement this function as a torch module with a constructor that takes\n$F_{CL}$ as an input. The distance $\\|F_{XL} - F_{CL}\\|^2$ is the mean square error\nbetween the two sets of feature maps, and can be computed using ``nn.MSELoss``.\n\nWe will add this content loss module directly after the convolution\nlayer(s) that are being used to compute the content distance. This way\neach time the network is fed an input image the content losses will be\ncomputed at the desired layers and because of auto grad, all the\ngradients will be computed. Now, in order to make the content loss layer\ntransparent we must define a ``forward`` method that computes the content\nloss and then returns the layer\u2019s input. The computed loss is saved as a\nparameter of the module.\n\n\n"
      ]
    },
    {
      "cell_type": "markdown",
      "metadata": {},
      "source": [
        ".. Note::\n   **Important detail**: although this module is named ``ContentLoss``, it\n   is not a true PyTorch Loss function. If you want to define your content\n   loss as a PyTorch Loss function, you have to create a PyTorch autograd function \n   to recompute/implement the gradient manually in the ``backward``\n   method.\n\n"
      ]
    },
    {
      "cell_type": "markdown",
      "metadata": {},
      "source": [
        "Style Loss\n~~~~~~~~~~\n\nThe style loss module is implemented similarly to the content loss\nmodule. It will act as a transparent layer in a\nnetwork that computes the style loss of that layer. In order to\ncalculate the style loss, we need to compute the gram matrix $G_{XL}$. A gram\nmatrix is the result of multiplying a given matrix by its transposed\nmatrix. In this application the given matrix is a reshaped version of\nthe feature maps $F_{XL}$ of a layer $L$. $F_{XL}$ is reshaped to form $\\hat{F}_{XL}$, a $K$\\ x\\ $N$\nmatrix, where $K$ is the number of feature maps at layer $L$ and $N$ is the\nlength of any vectorized feature map $F_{XL}^k$. For example, the first line\nof $\\hat{F}_{XL}$ corresponds to the first vectorized feature map $F_{XL}^1$.\n\nFinally, the gram matrix must be normalized by dividing each element by\nthe total number of elements in the matrix. This normalization is to\ncounteract the fact that $\\hat{F}_{XL}$ matrices with a large $N$ dimension yield\nlarger values in the Gram matrix. These larger values will cause the\nfirst layers (before pooling layers) to have a larger impact during the\ngradient descent. Style features tend to be in the deeper layers of the\nnetwork so this normalization step is crucial.\n\n\n"
      ]
    },
    {
      "cell_type": "markdown",
      "metadata": {},
      "source": [
        "Now the style loss module looks almost exactly like the content loss\nmodule. The style distance is also computed using the mean square\nerror between $G_{XL}$ and $G_{SL}$.\n\n\n"
      ]
    },
    {
      "cell_type": "markdown",
      "metadata": {},
      "source": [
        "Importing the Model\n-------------------\n\nNow we need to import a pre-trained neural network. We will use a 19\nlayer VGG network like the one used in the paper.\n\nPyTorch\u2019s implementation of VGG is a module divided into two child\n``Sequential`` modules: ``features`` (containing convolution and pooling layers),\nand ``classifier`` (containing fully connected layers). We will use the\n``features`` module because we need the output of the individual\nconvolution layers to measure content and style loss. Some layers have\ndifferent behavior during training than evaluation, so we must set the\nnetwork to evaluation mode using ``.eval()``.\n\n\n"
      ]
    },
    {
      "cell_type": "markdown",
      "metadata": {},
      "source": [
        "Additionally, VGG networks are trained on images with each channel\nnormalized by mean=[0.485, 0.456, 0.406] and std=[0.229, 0.224, 0.225].\nWe will use them to normalize the image before sending it into the network.\n\n\n"
      ]
    },
    {
      "cell_type": "code",
      "execution_count": null,
      "metadata": {
        "collapsed": false
      },
      "outputs": [],
      "source": [
        "# create a module to normalize input image so we can easily put it in a\n# nn.Sequential"
      ]
    },
    {
      "cell_type": "markdown",
      "metadata": {},
      "source": [
        "A ``Sequential`` module contains an ordered list of child modules. For\ninstance, ``vgg19.features`` contains a sequence (Conv2d, ReLU, MaxPool2d,\nConv2d, ReLU\u2026) aligned in the right order of depth. We need to add our\ncontent loss and style loss layers immediately after the convolution\nlayer they are detecting. To do this we must create a new ``Sequential``\nmodule that has content loss and style loss modules correctly inserted.\n\n\n"
      ]
    },
    {
      "cell_type": "code",
      "execution_count": null,
      "metadata": {
        "collapsed": false
      },
      "outputs": [],
      "source": [
        "# desired depth layers to compute style/content losses :"
      ]
    },
    {
      "cell_type": "markdown",
      "metadata": {},
      "source": [
        "Next, we select the input image. You can use a copy of the content image\nor white noise.\n\n\n"
      ]
    },
    {
      "cell_type": "code",
      "execution_count": null,
      "metadata": {
        "collapsed": false
      },
      "outputs": [],
      "source": [
        "# if you want to use white noise instead uncomment the below line:\n# input_img = torch.randn(content_img.data.size(), device=device)\n\n# add the original input image to the figure:"
      ]
    },
    {
      "cell_type": "markdown",
      "metadata": {},
      "source": [
        "Gradient Descent\n----------------\n\nAs Leon Gatys, the author of the algorithm, suggested `here <https://discuss.pytorch.org/t/pytorch-tutorial-for-neural-transfert-of-artistic-style/336/20?u=alexis-jacq>`__, we will use\nL-BFGS algorithm to run our gradient descent. Unlike training a network,\nwe want to train the input image in order to minimise the content/style\nlosses. We will create a PyTorch L-BFGS optimizer ``optim.LBFGS`` and pass\nour image to it as the tensor to optimize.\n\n\n"
      ]
    },
    {
      "cell_type": "markdown",
      "metadata": {},
      "source": [
        "Finally, we must define a function that performs the neural transfer. For\neach iteration of the networks, it is fed an updated input and computes\nnew losses. We will run the ``backward`` methods of each loss module to\ndynamicaly compute their gradients. The optimizer requires a \u201cclosure\u201d\nfunction, which reevaluates the module and returns the loss.\n\nWe still have one final constraint to address. The network may try to\noptimize the input with values that exceed the 0 to 1 tensor range for\nthe image. We can address this by correcting the input values to be\nbetween 0 to 1 each time the network is run.\n\n\n"
      ]
    },
    {
      "cell_type": "markdown",
      "metadata": {},
      "source": [
        "Finally, we can run the algorithm.\n\n\n"
      ]
    },
    {
      "cell_type": "code",
      "execution_count": null,
      "metadata": {
        "collapsed": false
      },
      "outputs": [],
      "source": [
        "# sphinx_gallery_thumbnail_number = 4\n\n\n\n\n# %%%%%%RUNNABLE_CODE_REMOVED%%%%%%"
      ]
    }
  ],
  "metadata": {
    "kernelspec": {
      "display_name": "Python 3",
      "language": "python",
      "name": "python3"
    },
    "language_info": {
      "codemirror_mode": {
        "name": "ipython",
        "version": 3
      },
      "file_extension": ".py",
      "mimetype": "text/x-python",
      "name": "python",
      "nbconvert_exporter": "python",
      "pygments_lexer": "ipython3",
      "version": "3.6.13"
    }
  },
  "nbformat": 4,
  "nbformat_minor": 0
}